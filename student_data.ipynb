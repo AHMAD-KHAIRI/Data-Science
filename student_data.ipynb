{
 "cells": [
  {
   "cell_type": "markdown",
   "metadata": {},
   "source": [
    "# Student Data\n",
    "This notebook analyzes pass/fail data for a class"
   ]
  },
  {
   "cell_type": "code",
   "execution_count": 1,
   "metadata": {},
   "outputs": [
    {
     "name": "stdout",
     "output_type": "stream",
     "text": [
      "[50, 47, 97, 64, 55, 78, 85, 32, 15, 20, 45, 88, 92, 66, 66, 78, 80, 60, 65]\n"
     ]
    }
   ],
   "source": [
    "data = [50, 47, 97, 64, 55, 78, 85, 32, 15, 20, 45, 88, 92, 66, 66, 78, 80, 60, 65]\n",
    "print(data)"
   ]
  }
 ],
 "metadata": {
  "kernelspec": {
   "display_name": "Python 3.10.0 64-bit",
   "language": "python",
   "name": "python3"
  },
  "language_info": {
   "codemirror_mode": {
    "name": "ipython",
    "version": 3
   },
   "file_extension": ".py",
   "mimetype": "text/x-python",
   "name": "python",
   "nbconvert_exporter": "python",
   "pygments_lexer": "ipython3",
   "version": "3.10.0"
  },
  "orig_nbformat": 4,
  "vscode": {
   "interpreter": {
    "hash": "a258a030a00aa27cc218e2c22b540d9e4bac6b115c8cb6ddd2c093a7b0a89b5a"
   }
  }
 },
 "nbformat": 4,
 "nbformat_minor": 2
}
